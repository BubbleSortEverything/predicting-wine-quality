{
 "cells": [
  {
   "cell_type": "markdown",
   "metadata": {},
   "source": [
    "## Homework 2: Wine Quality Prediction Using SGD\n",
    "### Student Name: First Last\n",
    "### Department:\n",
    "### Course: CS 474/574: Deep Learning/2020 Fall\n",
    "### Due: 09/25/2020\n",
    "\n",
    "\n",
    "Description: In this homework, you are going to implement the stochastic gradient optimization (mini-batch) to solve the wine quality prediction problem. Using the following code as your template. Specific requirements:\n",
    "\n",
    "1. Use the SGD function definition given in the code (def SGD(X, Y, lr = 0.001, batch_size = 32, epoch = 100):); and do not change it.\n",
    "\n",
    "2. SGD implementation. 35 pts\n",
    "    - Shuffle data (X and Y) at the beginning of each epoch. (10 pts)\n",
    "    - update w using minibatches correctly. (10 pts)\n",
    "    - record the loss and w at the end of each epoch. (10 pts)\n",
    "    - Decay learning rate at the end of each epoch. (5 points)\n",
    "    \n",
    "3. Evaluation (cross-validation). 65 pts\n",
    "    - Split the dataset into training (70%) and test (30%) sets. (10 points)\n",
    "    - Calculate and print out the MSE and MAE of GD for the training and test sets, respectively. (20 points)\n",
    "        - Print formate: \n",
    "            The training MSE is: , the traing MAE is: .\n",
    "            The test MSE is: , the test MAE is: .               \n",
    "    - Calculate and print out the MSE and MAE of SGD for the training and test sets, respectively. (20 points)\n",
    "         - Print formate: \n",
    "            The training MSE is: , the traing MAE is: .\n",
    "            The test MSE is: , the test MAE is: . \n",
    "            \n",
    "    - Plot the loss curve for SGD. (5 points)\n",
    "        - tip: using the 'plot' function in matplotlib\n",
    "        \n",
    "    - Plot the mse curves on the training and test sets, respectively, over the weight sequence (w_hist). (10 points)"
   ]
  },
  {
   "cell_type": "code",
   "execution_count": 10,
   "metadata": {},
   "outputs": [
    {
     "name": "stdout",
     "output_type": "stream",
     "text": [
      "Data shape: X: (4898, 11) Y: (4898,)\n"
     ]
    }
   ],
   "source": [
    "import pandas as pd\n",
    "import numpy as np\n",
    "import sklearn.metrics\n",
    "from matplotlib import pyplot as plt\n",
    "\n",
    "## (1) Data preparation\n",
    "df=pd.read_csv('winequality-white.csv', sep = ';')\n",
    "df\n",
    "X = df.values[:, :11]\n",
    "Y = df.values[:, 11]\n",
    "print('Data shape:', 'X:', X.shape, 'Y:', Y.shape)\n",
    "\n",
    "# data normalization\n",
    "min_vals = np.min(X, axis = 0)\n",
    "max_vals = np.max(X, axis = 0)\n",
    "X1 = (X-min_vals)/(max_vals-min_vals)\n",
    "\n",
    "##(2) Assume a linear mode that y = w0*1 + w_1*x_1 +w_2*x_2+...+ w_11*x_11\n",
    "def predict(X, w):\n",
    "    '''\n",
    "    X: input feature vectors:m*n\n",
    "    w: weights\n",
    "    \n",
    "    return Y_hat\n",
    "    '''\n",
    "    # Prediction\n",
    "    Y_hat = np.zeros((X.shape[0]))\n",
    "    for idx, x in enumerate(X):          \n",
    "        y_hat = w[0] + np.dot(w[1:].T, np.c_[x]) # linear model\n",
    "        Y_hat[idx] = y_hat    \n",
    "    return Y_hat\n",
    "\n",
    "## (3) Loss function: L = 1/2 * sum(y_hat_i - y_i)^2\n",
    "def loss(w, X, Y):\n",
    "    '''\n",
    "    w: weights\n",
    "    X: input feature vectors\n",
    "    Y: targets\n",
    "    '''\n",
    "    Y_hat = predict(X, w)\n",
    "    loss = 1/2* np.sum(np.square(Y - Y_hat))\n",
    "    \n",
    "    return loss\n",
    "\n",
    "# Optimization 1: Gradient Descent\n",
    "def GD(X, Y, lr = 0.001, delta = 0.01, max_iter = 100):\n",
    "    '''\n",
    "    X: training data\n",
    "    Y: training target\n",
    "    lr: learning rate\n",
    "    max_iter: the max iterations\n",
    "    '''\n",
    "    \n",
    "    m = len(Y)\n",
    "    b = np.reshape(Y, [Y.shape[0],1])\n",
    "    w = np.random.rand(X.shape[1] + 1, 1)\n",
    "    A = np.c_[np.ones((m, 1)), X]\n",
    "    gradient = A.T.dot(np.dot(A, w)-b)\n",
    "    \n",
    "    loss_hist = np.zeros(max_iter) # history of loss\n",
    "    w_hist = np.zeros((max_iter, w.shape[0])) # history of weight\n",
    "    loss_w = 0\n",
    "    i = 0                  \n",
    "    while(np.linalg.norm(gradient) > delta) and (i < max_iter):\n",
    "        w_hist[i,:] = w.T\n",
    "        loss_w = loss(w, X, Y)\n",
    "#         print(i, 'loss:', loss_w)\n",
    "        loss_hist[i] = loss_w\n",
    "        \n",
    "        w = w - lr*gradient        \n",
    "        gradient = A.T.dot(np.dot(A, w)-b) # update the gradient using new w\n",
    "        i = i + 1\n",
    "        \n",
    "    w_star = w  \n",
    "    return w_star, loss_hist, w_hist"
   ]
  },
  {
   "cell_type": "code",
   "execution_count": 11,
   "metadata": {
    "scrolled": true
   },
   "outputs": [],
   "source": [
    "# Optimization 2: implement the minibatch Gradient Descent approach\n",
    "def SGD(X, Y, lr = 0.001, batch_size = 32, epoch = 100):\n",
    "    '''\n",
    "    X: training data\n",
    "    Y: training target\n",
    "    lr: learning rate\n",
    "    batch_size: batch size\n",
    "    epoch: number of max epoches\n",
    "    \n",
    "    return: w_star, loss_hist, w_hist\n",
    "    '''\n",
    "    \n",
    "    m = len(Y)\n",
    "    w = np.random.rand(X.shape[1] + 1, 1)\n",
    "    loss_hist = np.zeros(epoch) # loss history\n",
    "    w_hist = np.zeros((epoch, w.shape[0])) #w history\n",
    "    \n",
    "    #Add your code here\n",
    "    #------------------------\n",
    "    decay = 0.9\n",
    "    for i in range(epoch):\n",
    "        #(2)shuffle the data and prepare batches\n",
    "        '''\n",
    "        shuffling training and target set accordingly\n",
    "        '''\n",
    "        prem = np.random.permutation(m)\n",
    "        x_shuffle = X[prem]\n",
    "        y_shuffle = Y[prem]\n",
    "        for j in range(int(m/batch_size)):   # does not accout for last batch(fix later!!)\n",
    "            # updating w using mini-batches\n",
    "            x_batch = x_shuffle[j*batch_size : (j+1)*batch_size]\n",
    "            y_batch = y_shuffle[j*batch_size : (j+1)*batch_size]\n",
    "                                    \n",
    "            '''\n",
    "            Shapes of matrices:\n",
    "            x_batch: 32x11, y_batch: 32, w: 12x1\n",
    "            A: 32x12, b: 32x1\n",
    "            '''\n",
    "            \n",
    "            b = np.reshape(y_batch, [y_batch.shape[0], 1]) # Reshapes into a 2d array\n",
    "            A = np.c_[np.ones((batch_size, 1)), x_batch]  # concatenating (32x11) (32x1) ==> (32x12))\n",
    "            \n",
    "            # calculating gradient and updating w\n",
    "            g = A.T.dot(np.dot(A, w)-b)\n",
    "            w = w - lr*g\n",
    "        \n",
    "        w_hist[i,:] = w.T\n",
    "        loss_hist[i] = loss(w, x_shuffle, y_shuffle)\n",
    "        lr *= decay\n",
    "\n",
    "    #--------------------------\n",
    "    \n",
    "    w_star = w  \n",
    "    return w_star, loss_hist, w_hist"
   ]
  },
  {
   "cell_type": "code",
   "execution_count": 12,
   "metadata": {},
   "outputs": [],
   "source": [
    "# Split the dataset into training (70%) and test (30%) sets. (10 points)\n",
    "train_size = int(0.7*len(X1))\n",
    "X_train, X_test = X1[:train_size, :], X1[train_size:, :]\n",
    "Y_train, Y_test = Y[:train_size], Y[train_size:]"
   ]
  },
  {
   "cell_type": "code",
   "execution_count": 13,
   "metadata": {},
   "outputs": [
    {
     "name": "stdout",
     "output_type": "stream",
     "text": [
      "The training MSE is:  0.7071887313426913  The training MAE is:  0.6537219043219245 The test MSE is:  0.6548673877174344  The test MAE is:  0.6250557998450257\n",
      "The training stochastic MSE is:  0.7028157938964132  The training stochastic MAE is:  0.6487007892152038 The test stochastic MSE is:  0.6601612133553423  The test stochastic MAE is:  0.6255712592130677\n"
     ]
    }
   ],
   "source": [
    "# Calculate and print out the MSE and MAE of GD for the training and test sets, respectively. (20 points)\n",
    "w_star, loss_hist, w_hist = GD(X_train, Y_train, lr = 0.0001, delta = 0.01)\n",
    "\n",
    "Y_train_hat = predict(X_train, w_star)\n",
    "train_MSE = np.square(np.subtract(Y_train, Y_train_hat)).mean()\n",
    "train_MAE = np.abs(np.subtract(Y_train, Y_train_hat)).mean()\n",
    "\n",
    "Y_test_hat = predict(X_test, w_star)\n",
    "test_MSE = np.square(np.subtract(Y_test, Y_test_hat)).mean()\n",
    "test_MAE = np.abs(np.subtract(Y_test, Y_test_hat)).mean()\n",
    "print('The training MSE is: ', train_MSE, ' The training MAE is: ', train_MAE, 'The test MSE is: ', test_MSE, ' The test MAE is: ', test_MAE)\n",
    "\n",
    "# Calculate and print out the MSE and MAE of SGD for the training and test sets, respectively. (20 points)\n",
    "w_star_sthc, loss_hist_sthc, w_hist_sthc = SGD(X_train, Y_train, lr = 0.001, batch_size = 32, epoch = 100)\n",
    "\n",
    "Y_train_hat_sthc = predict(X_train, w_star_sthc)\n",
    "train_MSE_sthc = np.square(np.subtract(Y_train, Y_train_hat_sthc)).mean()\n",
    "train_MAE_sthc = np.abs(np.subtract(Y_train, Y_train_hat_sthc)).mean()\n",
    "\n",
    "Y_test_hat_sthc = predict(X_test, w_star_sthc)\n",
    "test_MSE_sthc = np.square(np.subtract(Y_test, Y_test_hat_sthc)).mean()\n",
    "test_MAE_sthc = np.abs(np.subtract(Y_test, Y_test_hat_sthc)).mean()\n",
    "print('The training stochastic MSE is: ', train_MSE_sthc, ' The training stochastic MAE is: ', train_MAE_sthc, 'The test stochastic MSE is: ', test_MSE_sthc, ' The test stochastic MAE is: ', test_MAE_sthc)"
   ]
  },
  {
   "cell_type": "code",
   "execution_count": 14,
   "metadata": {},
   "outputs": [
    {
     "data": {
      "image/png": "[encoded data removed]",
      "text/plain": [
       "<Figure size 432x288 with 1 Axes>"
      ]
     },
     "metadata": {
      "needs_background": "light"
     },
     "output_type": "display_data"
    }
   ],
   "source": [
    "# Plot the loss curve for SGD. (5 points)\n",
    "plt.plot(loss_hist_sthc)\n",
    "plt.xlabel('Iterations')\n",
    "plt.ylabel('Stochastic Loss')\n",
    "plt.legend(('SGD'),loc='best')\n",
    "plt.show()"
   ]
  },
  {
   "cell_type": "code",
   "execution_count": 15,
   "metadata": {
    "scrolled": false
   },
   "outputs": [
    {
     "data": {
      "image/png": "[encoded data removed]",
      "text/plain": [
       "<Figure size 432x288 with 1 Axes>"
      ]
     },
     "metadata": {
      "needs_background": "light"
     },
     "output_type": "display_data"
    }
   ],
   "source": [
    "# Plot the mse curves on the training and test sets, respectively, over the weight sequence (w_hist). (10 points)\n",
    "n_epochs = 100\n",
    "MSE_SGD_train = np.zeros(n_epochs)\n",
    "MSE_SGD_test = np.zeros(n_epochs)\n",
    "\n",
    "for i in range(n_epochs):\n",
    "    y_train_SGD_hat = predict(X_train, w_hist_sthc[i])\n",
    "    y_test_SGD_hat = predict(X_test, w_hist_sthc[i])\n",
    "    \n",
    "    MSE_SGD_train[i] = np.square(np.subtract(Y_train, y_train_SGD_hat)).mean()\n",
    "    MSE_SGD_test[i] = np.square(np.subtract(Y_test, y_test_SGD_hat)).mean()\n",
    "    \n",
    "plt.plot(range(n_epochs), MSE_SGD_train)\n",
    "plt.plot(range(n_epochs), MSE_SGD_test)\n",
    "plt.xlabel('The Weight sequence (batch size = 32)')\n",
    "plt.ylabel('MSE')\n",
    "plt.legend(('MSE on training set ', 'MSE on on test set '), loc='best') \n",
    "plt.show()"
   ]
  },
  {
   "cell_type": "code",
   "execution_count": null,
   "metadata": {},
   "outputs": [],
   "source": []
  }
 ],
 "metadata": {
  "kernelspec": {
   "display_name": "Python 3",
   "language": "python",
   "name": "python3"
  },
  "language_info": {
   "codemirror_mode": {
    "name": "ipython",
    "version": 3
   },
   "file_extension": ".py",
   "mimetype": "text/x-python",
   "name": "python",
   "nbconvert_exporter": "python",
   "pygments_lexer": "ipython3",
   "version": "3.7.9"
  }
 },
 "nbformat": 4,
 "nbformat_minor": 2
}
